{
  "cells": [
    {
      "cell_type": "markdown",
      "metadata": {
        "id": "vKJA-JW_ZUe_"
      },
      "source": [
        "## Projeto Final - PPgEEC - Aprendizado de Máquina\n",
        "\n",
        "#### Componentes:\n",
        " - José Augusto Agripino de Oliveira\n",
        " - Luiz Henrique Araújo Dantas\n",
        "\n",
        "\n",
        "Objetivo do projeto: Avaliação de desempenho de modelo através de transfer learning pelas técnicas de Feature Extractor e Fine-tuning\n",
        "\n",
        "Modelo selecionado: VGG16\n",
        "\n",
        "Dataset selecionado: [Bone Fracture Multi-Region X-ray Data](https://www.kaggle.com/datasets/bmadushanirodrigo/fracture-multi-region-x-ray-data)\n",
        "\n",
        "\n",
        "Este conjunto de dados compreende imagens de raios X fraturadas e não fraturadas cobrindo todas as regiões anatômicas do corpo, incluindo membros inferiores, membros superiores, lombar, quadris, joelhos, etc. O conjunto de dados é categorizado em pastas de treinamento, teste e validação, cada uma contendo imagens radiográficas fraturadas e não fraturadas.\n",
        "\n",
        "Quantidade de imagens disponibilizadas: 10.580 imagens\n",
        "\n",
        "Divisão do conjunto de dados:\n",
        "\n",
        "- Dados de treinamento: 9246 imagens\n",
        "\n",
        "- Dados de validação: 828 imagens\n",
        "\n",
        "- Dados de teste: 506 imagens"
      ]
    },
    {
      "cell_type": "code",
      "execution_count": null,
      "metadata": {
        "id": "LgE8HSCWbIIX"
      },
      "outputs": [],
      "source": [
        "%pip install torch torchvision torchaudio pandas seaborn numpy kagglehub > install_logs.txt"
      ]
    },
    {
      "cell_type": "code",
      "execution_count": null,
      "metadata": {
        "id": "nnp3t4FQYfOi"
      },
      "outputs": [],
      "source": [
        "import os\n",
        "import math\n",
        "import time\n",
        "import torch\n",
        "import pandas\n",
        "import seaborn\n",
        "import kagglehub\n",
        "import numpy as np\n",
        "import torchvision\n",
        "import torch.nn as nn\n",
        "import torch.optim as optim\n",
        "import matplotlib.pyplot as plt\n",
        "from PIL import ImageFile\n",
        "from copy import deepcopy\n",
        "from torchvision import models, datasets\n",
        "from torch.utils.data import DataLoader, TensorDataset\n",
        "from torchvision.transforms.v2 import Compose, ToImage, Normalize, CenterCrop, Resize, ToDtype"
      ]
    },
    {
      "cell_type": "code",
      "execution_count": null,
      "metadata": {
        "colab": {
          "base_uri": "https://localhost:8080/"
        },
        "id": "CNle07l0b_wN",
        "outputId": "e8d482b9-3cf7-4ef5-ca92-718ada0a240f"
      },
      "outputs": [
        {
          "name": "stdout",
          "output_type": "stream",
          "text": [
            "2.5.1+cu121\n"
          ]
        }
      ],
      "source": [
        "print(torch.__version__)"
      ]
    },
    {
      "cell_type": "code",
      "execution_count": null,
      "metadata": {
        "colab": {
          "base_uri": "https://localhost:8080/"
        },
        "id": "phhR_xIUQBFu",
        "outputId": "378b41ff-5f57-4e87-af0c-d1a9e5d7a1bd"
      },
      "outputs": [
        {
          "name": "stdout",
          "output_type": "stream",
          "text": [
            "Downloading from https://www.kaggle.com/api/v1/datasets/download/bmadushanirodrigo/fracture-multi-region-x-ray-data?dataset_version_number=2...\n"
          ]
        },
        {
          "name": "stderr",
          "output_type": "stream",
          "text": [
            "100%|██████████| 481M/481M [00:06<00:00, 75.7MB/s]"
          ]
        },
        {
          "name": "stdout",
          "output_type": "stream",
          "text": [
            "Extracting files...\n"
          ]
        },
        {
          "name": "stderr",
          "output_type": "stream",
          "text": [
            "\n"
          ]
        },
        {
          "name": "stdout",
          "output_type": "stream",
          "text": [
            "Path to dataset files: /root/.cache/kagglehub/datasets/bmadushanirodrigo/fracture-multi-region-x-ray-data/versions/2\n"
          ]
        }
      ],
      "source": [
        "# Download latest version\n",
        "path = kagglehub.dataset_download(\"bmadushanirodrigo/fracture-multi-region-x-ray-data\")\n",
        "\n",
        "print(\"Path to dataset files:\", path)"
      ]
    },
    {
      "cell_type": "code",
      "execution_count": null,
      "metadata": {
        "colab": {
          "base_uri": "https://localhost:8080/"
        },
        "id": "b7KTW0niIhek",
        "outputId": "cf7d6333-a362-4238-b1eb-844d6e4d81ad"
      },
      "outputs": [
        {
          "name": "stdout",
          "output_type": "stream",
          "text": [
            "Arquivos no diretório: ['train', 'val', 'test']\n"
          ]
        }
      ],
      "source": [
        "# Lista todos os arquivos e diretórios baixados\n",
        "data_directory = os.path.join(path, \"Bone_Fracture_Binary_Classification/Bone_Fracture_Binary_Classification\")\n",
        "entries = os.listdir(data_directory)\n",
        "print(\"Arquivos no diretório:\", entries)"
      ]
    },
    {
      "cell_type": "code",
      "execution_count": null,
      "metadata": {
        "colab": {
          "base_uri": "https://localhost:8080/"
        },
        "id": "AIff1gqzZEJ9",
        "outputId": "1545a94f-4193-479f-ba6f-67178bc9ee59"
      },
      "outputs": [
        {
          "name": "stderr",
          "output_type": "stream",
          "text": [
            "/usr/local/lib/python3.11/dist-packages/torchvision/models/_utils.py:208: UserWarning: The parameter 'pretrained' is deprecated since 0.13 and may be removed in the future, please use 'weights' instead.\n",
            "  warnings.warn(\n",
            "/usr/local/lib/python3.11/dist-packages/torchvision/models/_utils.py:223: UserWarning: Arguments other than a weight enum or `None` for 'weights' are deprecated since 0.13 and may be removed in the future. The current behavior is equivalent to passing `weights=VGG16_Weights.IMAGENET1K_V1`. You can also use `weights=VGG16_Weights.DEFAULT` to get the most up-to-date weights.\n",
            "  warnings.warn(msg)\n",
            "Downloading: \"https://download.pytorch.org/models/vgg16-397923af.pth\" to /root/.cache/torch/hub/checkpoints/vgg16-397923af.pth\n",
            "100%|██████████| 528M/528M [00:04<00:00, 123MB/s]\n"
          ]
        }
      ],
      "source": [
        "#Instanciando modelo VGG16\n",
        "torch.manual_seed(42)\n",
        "\n",
        "vgg16 = models.vgg16(pretrained=True)\n",
        "\n",
        "device = torch.device(\"cuda\" if torch.cuda.is_available() else \"cpu\")\n",
        "\n",
        "vgg16 = vgg16.to(device)"
      ]
    },
    {
      "cell_type": "code",
      "execution_count": null,
      "metadata": {
        "colab": {
          "base_uri": "https://localhost:8080/"
        },
        "id": "ExZgDfydgMZe",
        "outputId": "447f36db-9e66-43ec-c14e-bcd15fd4be5d"
      },
      "outputs": [
        {
          "data": {
            "text/plain": [
              "VGG(\n",
              "  (features): Sequential(\n",
              "    (0): Conv2d(3, 64, kernel_size=(3, 3), stride=(1, 1), padding=(1, 1))\n",
              "    (1): ReLU(inplace=True)\n",
              "    (2): Conv2d(64, 64, kernel_size=(3, 3), stride=(1, 1), padding=(1, 1))\n",
              "    (3): ReLU(inplace=True)\n",
              "    (4): MaxPool2d(kernel_size=2, stride=2, padding=0, dilation=1, ceil_mode=False)\n",
              "    (5): Conv2d(64, 128, kernel_size=(3, 3), stride=(1, 1), padding=(1, 1))\n",
              "    (6): ReLU(inplace=True)\n",
              "    (7): Conv2d(128, 128, kernel_size=(3, 3), stride=(1, 1), padding=(1, 1))\n",
              "    (8): ReLU(inplace=True)\n",
              "    (9): MaxPool2d(kernel_size=2, stride=2, padding=0, dilation=1, ceil_mode=False)\n",
              "    (10): Conv2d(128, 256, kernel_size=(3, 3), stride=(1, 1), padding=(1, 1))\n",
              "    (11): ReLU(inplace=True)\n",
              "    (12): Conv2d(256, 256, kernel_size=(3, 3), stride=(1, 1), padding=(1, 1))\n",
              "    (13): ReLU(inplace=True)\n",
              "    (14): Conv2d(256, 256, kernel_size=(3, 3), stride=(1, 1), padding=(1, 1))\n",
              "    (15): ReLU(inplace=True)\n",
              "    (16): MaxPool2d(kernel_size=2, stride=2, padding=0, dilation=1, ceil_mode=False)\n",
              "    (17): Conv2d(256, 512, kernel_size=(3, 3), stride=(1, 1), padding=(1, 1))\n",
              "    (18): ReLU(inplace=True)\n",
              "    (19): Conv2d(512, 512, kernel_size=(3, 3), stride=(1, 1), padding=(1, 1))\n",
              "    (20): ReLU(inplace=True)\n",
              "    (21): Conv2d(512, 512, kernel_size=(3, 3), stride=(1, 1), padding=(1, 1))\n",
              "    (22): ReLU(inplace=True)\n",
              "    (23): MaxPool2d(kernel_size=2, stride=2, padding=0, dilation=1, ceil_mode=False)\n",
              "    (24): Conv2d(512, 512, kernel_size=(3, 3), stride=(1, 1), padding=(1, 1))\n",
              "    (25): ReLU(inplace=True)\n",
              "    (26): Conv2d(512, 512, kernel_size=(3, 3), stride=(1, 1), padding=(1, 1))\n",
              "    (27): ReLU(inplace=True)\n",
              "    (28): Conv2d(512, 512, kernel_size=(3, 3), stride=(1, 1), padding=(1, 1))\n",
              "    (29): ReLU(inplace=True)\n",
              "    (30): MaxPool2d(kernel_size=2, stride=2, padding=0, dilation=1, ceil_mode=False)\n",
              "  )\n",
              "  (avgpool): AdaptiveAvgPool2d(output_size=(7, 7))\n",
              "  (classifier): Sequential(\n",
              "    (0): Linear(in_features=25088, out_features=4096, bias=True)\n",
              "    (1): ReLU(inplace=True)\n",
              "    (2): Dropout(p=0.5, inplace=False)\n",
              "    (3): Linear(in_features=4096, out_features=4096, bias=True)\n",
              "    (4): ReLU(inplace=True)\n",
              "    (5): Dropout(p=0.5, inplace=False)\n",
              "    (6): Linear(in_features=4096, out_features=1000, bias=True)\n",
              "  )\n",
              ")"
            ]
          },
          "execution_count": 5,
          "metadata": {},
          "output_type": "execute_result"
        }
      ],
      "source": [
        "vgg16"
      ]
    },
    {
      "cell_type": "markdown",
      "metadata": {
        "id": "w5Bt9PUgJ3K1"
      },
      "source": [
        "# DataLoaders"
      ]
    },
    {
      "cell_type": "markdown",
      "metadata": {
        "id": "JX5xra_Q5_4B"
      },
      "source": [
        "A média e o desvio padrão utilizado para normalizar as imagens do dataset escolhido para este trabalho precisam ser os mesmo utilizado para o dataset de treinamento do VGG16. O ImageNet é um banco de dados de imagens organizado de acordo com a hierarquia WordNet (atualmente apenas os substantivos), em que cada nó da hierarquia é representado por centenas e milhares de imagens."
      ]
    },
    {
      "cell_type": "code",
      "execution_count": null,
      "metadata": {
        "id": "WAuVL1VLLIfQ"
      },
      "outputs": [],
      "source": [
        "normalizer = Normalize(mean=[0.485, 0.456, 0.406], std=[0.229, 0.224, 0.225])\n",
        "\n",
        "composer = Compose([Resize(256),\n",
        "  CenterCrop(224),\n",
        "  ToImage(),\n",
        "  ToDtype(torch.float32, scale=True),\n",
        "  normalizer])"
      ]
    },
    {
      "cell_type": "code",
      "execution_count": null,
      "metadata": {
        "id": "rf7GTGN_Lc0B"
      },
      "outputs": [],
      "source": [
        "ImageFile.LOAD_TRUNCATED_IMAGES = True\n",
        "\n",
        "# Carrega os dados de treinamento\n",
        "train_data = datasets.ImageFolder(root=os.path.join(data_directory, 'train'), transform=composer)\n",
        "# DataLoader para carregar os dados em batchs\n",
        "train_loader = DataLoader(train_data, batch_size=16, shuffle=True)\n",
        "\n",
        "# Carrega os dados de validação\n",
        "val_data = datasets.ImageFolder(root=os.path.join(data_directory, 'val'), transform=composer)\n",
        "# DataLoader para validação\n",
        "val_loader = DataLoader(val_data, batch_size=16, shuffle=False)\n",
        "\n",
        "# Carrega os dados de teste\n",
        "test_data = datasets.ImageFolder(root=os.path.join(data_directory, 'test'), transform=composer)\n",
        "# DataLoader para teste\n",
        "test_loader = DataLoader(test_data, batch_size=16, shuffle=False)"
      ]
    },
    {
      "cell_type": "markdown",
      "metadata": {
        "id": "9Upe1oJ-ZYfE"
      },
      "source": [
        "# Feature Extractor\n"
      ]
    },
    {
      "cell_type": "code",
      "execution_count": null,
      "metadata": {
        "colab": {
          "base_uri": "https://localhost:8080/"
        },
        "id": "vLsJSwRjNOp_",
        "outputId": "af7508a9-df7e-44c6-dae0-a2919021502c"
      },
      "outputs": [
        {
          "name": "stdout",
          "output_type": "stream",
          "text": [
            "Sequential(\n",
            "  (0): Linear(in_features=25088, out_features=4096, bias=True)\n",
            "  (1): ReLU(inplace=True)\n",
            "  (2): Dropout(p=0.5, inplace=False)\n",
            "  (3): Identity()\n",
            ")\n"
          ]
        }
      ],
      "source": [
        "# Feature extractor\n",
        "vgg16_fe = deepcopy(vgg16)\n",
        "\n",
        "# Substituir as camadas 4, 5 e 6 por uma camada de identidade\n",
        "vgg16_fe.classifier = nn.Sequential(\n",
        "    *list(vgg16_fe.classifier.children())[:3],  # Manter até a camada 3\n",
        "    nn.Identity()  # Substituir a camada 3 por identidade\n",
        ")\n",
        "\n",
        "for param in vgg16_fe.parameters():\n",
        "    param.requires_grad = False\n",
        "\n",
        "# Verificar a nova arquitetura do classificador\n",
        "print(vgg16_fe.classifier)"
      ]
    },
    {
      "cell_type": "code",
      "execution_count": null,
      "metadata": {
        "id": "8aMiwvwq0bIA"
      },
      "outputs": [],
      "source": [
        "def preprocessed_dataset(model, loader, device=None):\n",
        "    if device is None:\n",
        "        device = next(model.parameters()).device\n",
        "    features = None\n",
        "    labels = None\n",
        "\n",
        "    for i, (x, y) in enumerate(loader):\n",
        "        model.eval()\n",
        "        output = model(x.to(device))\n",
        "        if i == 0:\n",
        "            features = output.detach().cpu()\n",
        "            labels = y.cpu()\n",
        "        else:\n",
        "            features = torch.cat([features, output.detach().cpu()])\n",
        "            labels = torch.cat([labels, y.cpu()])\n",
        "\n",
        "    dataset = TensorDataset(features, labels)\n",
        "    return dataset"
      ]
    },
    {
      "cell_type": "code",
      "execution_count": null,
      "metadata": {
        "id": "jQCRV85d0VEb"
      },
      "outputs": [],
      "source": [
        "train_preproc = preprocessed_dataset(vgg16_fe, train_loader)\n",
        "train_preproc_loader = DataLoader(\n",
        "    train_preproc, batch_size=16, shuffle=True\n",
        ")"
      ]
    },
    {
      "cell_type": "code",
      "execution_count": null,
      "metadata": {
        "colab": {
          "base_uri": "https://localhost:8080/"
        },
        "id": "XpMvHpyV3OK0",
        "outputId": "2acf5548-d7b5-49ae-d7cc-94b97bda36fd"
      },
      "outputs": [
        {
          "name": "stdout",
          "output_type": "stream",
          "text": [
            "Sequential(\n",
            "  (0): Linear(in_features=4096, out_features=1, bias=True)\n",
            ")\n"
          ]
        }
      ],
      "source": [
        "vgg16_fe_top_model = nn.Sequential(nn.Linear(4096, 1))\n",
        "vgg16_fe_top_model = vgg16_fe_top_model.to(device)\n",
        "\n",
        "print(vgg16_fe_top_model)\n",
        "\n",
        "# Função de perda e otimizador\n",
        "criterion = nn.BCEWithLogitsLoss()\n",
        "optimizer = optim.Adam(vgg16_fe_top_model.parameters(), lr=0.001)"
      ]
    },
    {
      "cell_type": "code",
      "execution_count": null,
      "metadata": {
        "id": "_1INn3qLd4VC"
      },
      "outputs": [],
      "source": [
        "# Plotar o gráfico de perda\n",
        "def plot_loss(losses, epochs):\n",
        "    plt.figure(figsize=(8, 6))\n",
        "    plt.plot(range(1, epochs + 1), losses, marker='o', label='Loss')\n",
        "    plt.xlabel('Época')\n",
        "    plt.ylabel('Perda')\n",
        "    plt.title('Perda durante o Treinamento')\n",
        "    plt.legend()\n",
        "    plt.grid()\n",
        "    plt.show()\n",
        "\n",
        "def train(model, train_loader, criterion, optimizer, device, epochs=5, binary=False):\n",
        "    model.train()  # Colocar o modelo em modo de treinamento\n",
        "\n",
        "    train_losses = []\n",
        "\n",
        "    for epoch in range(epochs):\n",
        "        running_loss = 0.0\n",
        "        correct = 0\n",
        "        total = 0\n",
        "\n",
        "        for inputs, labels in train_loader:\n",
        "          if binary:\n",
        "            inputs, labels = inputs.to(device), labels.to(device).float().unsqueeze(1)\n",
        "          else:\n",
        "            inputs, labels = inputs.to(device), labels.to(device)\n",
        "\n",
        "          optimizer.zero_grad()\n",
        "\n",
        "\n",
        "          outputs = model(inputs)\n",
        "          loss = criterion(outputs, labels)\n",
        "          loss.backward()\n",
        "          optimizer.step()\n",
        "\n",
        "          running_loss += loss.item()\n",
        "          predicted = None\n",
        "          if binary:\n",
        "            predicted = (outputs > 0.5).float()  # Ajuste da predição\n",
        "          else:\n",
        "            _, predicted = torch.max(outputs, 1)\n",
        "          correct += (predicted == labels).sum().item()\n",
        "          total += labels.size(0)\n",
        "\n",
        "        # Cálculo da perda média por época\n",
        "        epoch_loss = running_loss / len(train_loader)\n",
        "        train_losses.append(epoch_loss)  # Armazena a perda na lista\n",
        "\n",
        "        print(f\"Epoch {epoch+1}/{epochs}, Loss: {epoch_loss}, Accuracy: {100 * correct / total}%\")\n",
        "\n",
        "    # Plotar o gráfico de perda\n",
        "    plot_loss(train_losses, epochs)"
      ]
    },
    {
      "cell_type": "code",
      "execution_count": null,
      "metadata": {
        "colab": {
          "base_uri": "https://localhost:8080/",
          "height": 844
        },
        "id": "kZzaGwUX1RRb",
        "outputId": "9e334fa3-523e-4b5e-8136-28f1cd598acf"
      },
      "outputs": [
        {
          "name": "stdout",
          "output_type": "stream",
          "text": [
            "Epoch 1/15, Loss: 0.1956076049036427, Accuracy: 92.92667099286177%\n",
            "Epoch 2/15, Loss: 0.06333605269015248, Accuracy: 98.81029634436513%\n",
            "Epoch 3/15, Loss: 0.035891743861847784, Accuracy: 99.36188622106857%\n",
            "Epoch 4/15, Loss: 0.022798151857377543, Accuracy: 99.71879731775903%\n",
            "Epoch 5/15, Loss: 0.015260702856473149, Accuracy: 99.78369024443002%\n",
            "Epoch 6/15, Loss: 0.010587285461095983, Accuracy: 99.93510707332901%\n",
            "Epoch 7/15, Loss: 0.007398012877082626, Accuracy: 99.978369024443%\n",
            "Epoch 8/15, Loss: 0.00561495052428415, Accuracy: 100.0%\n",
            "Epoch 9/15, Loss: 0.004260323891153553, Accuracy: 99.978369024443%\n",
            "Epoch 10/15, Loss: 0.003500685222776426, Accuracy: 100.0%\n",
            "Epoch 11/15, Loss: 0.0024803026114968312, Accuracy: 100.0%\n",
            "Epoch 12/15, Loss: 0.0018467119144969443, Accuracy: 100.0%\n",
            "Epoch 13/15, Loss: 0.0016359410267427989, Accuracy: 100.0%\n",
            "Epoch 14/15, Loss: 0.0010728029844191596, Accuracy: 100.0%\n",
            "Epoch 15/15, Loss: 0.0008293320957963415, Accuracy: 100.0%\n"
          ]
        },
        {
          "data": {
            "image/png": "[encoded data removed]",
            "text/plain": [
              "<Figure size 800x600 with 1 Axes>"
            ]
          },
          "metadata": {},
          "output_type": "display_data"
        },
        {
          "name": "stdout",
          "output_type": "stream",
          "text": [
            "Tempo total de treinamento: 13.31 segundos\n"
          ]
        }
      ],
      "source": [
        "# Treinar o modelo\n",
        "start_time = time.time()\n",
        "train(vgg16_fe_top_model, train_preproc_loader, criterion, optimizer, device, epochs=15, binary=True)\n",
        "end_time = time.time()\n",
        "elapsed_time = end_time - start_time\n",
        "print(f\"Tempo total de treinamento: {elapsed_time:.2f} segundos\")"
      ]
    },
    {
      "cell_type": "code",
      "execution_count": null,
      "metadata": {
        "id": "jX874f3sOzIf"
      },
      "outputs": [],
      "source": [
        "def evaluate_model(model, dataloader, device, criterion, binary=False):\n",
        "    \"\"\"\n",
        "    Avalia um modelo PyTorch calculando a perda e a acurácia.\n",
        "\n",
        "    Args:\n",
        "        model (torch.nn.Module): Modelo a ser avaliado.\n",
        "        dataloader (torch.utils.data.DataLoader): DataLoader com os dados de validação.\n",
        "        device (torch.device): Dispositivo (CPU ou GPU).\n",
        "        criterion (torch.nn.Module): Função de perda (ex: CrossEntropyLoss).\n",
        "\n",
        "    Returns:\n",
        "        tuple: Perda média e acurácia em porcentagem.\n",
        "    \"\"\"\n",
        "    model.eval()  # Coloca o modelo em modo de avaliação\n",
        "    total = 0\n",
        "    correct = 0\n",
        "    total_loss = 0.0\n",
        "\n",
        "    with torch.no_grad():  # Desativa o cálculo de gradientes\n",
        "        for inputs, labels in dataloader:\n",
        "            # Move os dados para o dispositivo\n",
        "            if binary:\n",
        "              inputs, labels = inputs.to(device), labels.to(device).float().unsqueeze(1)\n",
        "            else:\n",
        "              inputs, labels = inputs.to(device), labels.to(device)\n",
        "\n",
        "            # Forward pass\n",
        "            outputs = model(inputs)\n",
        "            loss = criterion(outputs, labels)  # Calcula a perda\n",
        "            total_loss += loss.item() * inputs.size(0)  # Acumula a perda (ponderada pelo batch size)\n",
        "\n",
        "            # Predições e contagem de corretos\n",
        "            if binary:\n",
        "              predicted = (outputs > 0.5).float()\n",
        "            else:\n",
        "              _, predicted = torch.max(outputs, 1)\n",
        "            total += labels.size(0)\n",
        "            correct += (predicted == labels).sum().item()\n",
        "\n",
        "    # Perda média e acurácia\n",
        "    avg_loss = total_loss / total\n",
        "    accuracy = 100 * correct / total\n",
        "    return avg_loss, accuracy"
      ]
    },
    {
      "cell_type": "code",
      "execution_count": null,
      "metadata": {
        "colab": {
          "base_uri": "https://localhost:8080/"
        },
        "id": "8hVsRMJb984Y",
        "outputId": "dbaf488c-aa73-4d01-fa81-d919ae524bc8"
      },
      "outputs": [
        {
          "name": "stderr",
          "output_type": "stream",
          "text": [
            "/usr/local/lib/python3.11/dist-packages/PIL/Image.py:1045: UserWarning: Palette images with Transparency expressed in bytes should be converted to RGBA images\n",
            "  warnings.warn(\n"
          ]
        }
      ],
      "source": [
        "# Now we can attach the trained model to the top of the full (frozen) model\n",
        "vgg16_fe.classifier[3] = vgg16_fe_top_model\n",
        "\n",
        "avg_loss_val, accuracy_val = evaluate_model(vgg16_fe, val_loader, device, criterion, binary=True)\n",
        "avg_loss_test, accuracy_test = evaluate_model(vgg16_fe, test_loader, device, criterion, binary=True)"
      ]
    },
    {
      "cell_type": "code",
      "execution_count": null,
      "metadata": {
        "colab": {
          "base_uri": "https://localhost:8080/"
        },
        "id": "CNE-7ZmsWeA_",
        "outputId": "668848af-b794-4157-bb42-6072fd192a82"
      },
      "outputs": [
        {
          "name": "stdout",
          "output_type": "stream",
          "text": [
            "Resultados da Validação:\n",
            "  Perda Média: 0.01528780009140866\n",
            "  Acurácia: 99.51749095295537%\n",
            "\n",
            "Resultados do Teste:\n",
            "  Perda Média: 0.009583958067559442\n",
            "  Acurácia: 100.0%\n"
          ]
        }
      ],
      "source": [
        "# Exibindo os resultados\n",
        "print(f\"Resultados da Validação:\")\n",
        "print(f\"  Perda Média: {avg_loss_val}\")\n",
        "print(f\"  Acurácia: {accuracy_val}%\")\n",
        "\n",
        "print(f\"\\nResultados do Teste:\")\n",
        "print(f\"  Perda Média: {avg_loss_test}\")\n",
        "print(f\"  Acurácia: {accuracy_test}%\")"
      ]
    },
    {
      "cell_type": "markdown",
      "metadata": {
        "id": "W6qXH-iKYwtx"
      },
      "source": [
        "# Fine-tuning"
      ]
    },
    {
      "cell_type": "code",
      "execution_count": null,
      "metadata": {
        "colab": {
          "base_uri": "https://localhost:8080/"
        },
        "id": "up3YSHomY08y",
        "outputId": "3d5725d0-1d25-450a-a3aa-4d4fd607cde0"
      },
      "outputs": [
        {
          "name": "stdout",
          "output_type": "stream",
          "text": [
            "VGG(\n",
            "  (features): Sequential(\n",
            "    (0): Conv2d(3, 64, kernel_size=(3, 3), stride=(1, 1), padding=(1, 1))\n",
            "    (1): ReLU(inplace=True)\n",
            "    (2): Conv2d(64, 64, kernel_size=(3, 3), stride=(1, 1), padding=(1, 1))\n",
            "    (3): ReLU(inplace=True)\n",
            "    (4): MaxPool2d(kernel_size=2, stride=2, padding=0, dilation=1, ceil_mode=False)\n",
            "    (5): Conv2d(64, 128, kernel_size=(3, 3), stride=(1, 1), padding=(1, 1))\n",
            "    (6): ReLU(inplace=True)\n",
            "    (7): Conv2d(128, 128, kernel_size=(3, 3), stride=(1, 1), padding=(1, 1))\n",
            "    (8): ReLU(inplace=True)\n",
            "    (9): MaxPool2d(kernel_size=2, stride=2, padding=0, dilation=1, ceil_mode=False)\n",
            "    (10): Conv2d(128, 256, kernel_size=(3, 3), stride=(1, 1), padding=(1, 1))\n",
            "    (11): ReLU(inplace=True)\n",
            "    (12): Conv2d(256, 256, kernel_size=(3, 3), stride=(1, 1), padding=(1, 1))\n",
            "    (13): ReLU(inplace=True)\n",
            "    (14): Conv2d(256, 256, kernel_size=(3, 3), stride=(1, 1), padding=(1, 1))\n",
            "    (15): ReLU(inplace=True)\n",
            "    (16): MaxPool2d(kernel_size=2, stride=2, padding=0, dilation=1, ceil_mode=False)\n",
            "    (17): Conv2d(256, 512, kernel_size=(3, 3), stride=(1, 1), padding=(1, 1))\n",
            "    (18): ReLU(inplace=True)\n",
            "    (19): Conv2d(512, 512, kernel_size=(3, 3), stride=(1, 1), padding=(1, 1))\n",
            "    (20): ReLU(inplace=True)\n",
            "    (21): Conv2d(512, 512, kernel_size=(3, 3), stride=(1, 1), padding=(1, 1))\n",
            "    (22): ReLU(inplace=True)\n",
            "    (23): MaxPool2d(kernel_size=2, stride=2, padding=0, dilation=1, ceil_mode=False)\n",
            "    (24): Conv2d(512, 512, kernel_size=(3, 3), stride=(1, 1), padding=(1, 1))\n",
            "    (25): ReLU(inplace=True)\n",
            "    (26): Conv2d(512, 512, kernel_size=(3, 3), stride=(1, 1), padding=(1, 1))\n",
            "    (27): ReLU(inplace=True)\n",
            "    (28): Conv2d(512, 512, kernel_size=(3, 3), stride=(1, 1), padding=(1, 1))\n",
            "    (29): ReLU(inplace=True)\n",
            "    (30): MaxPool2d(kernel_size=2, stride=2, padding=0, dilation=1, ceil_mode=False)\n",
            "  )\n",
            "  (avgpool): AdaptiveAvgPool2d(output_size=(7, 7))\n",
            "  (classifier): Sequential(\n",
            "    (0): Identity()\n",
            "  )\n",
            ")\n"
          ]
        }
      ],
      "source": [
        "# Fine-tuning\n",
        "vgg16_ft = deepcopy(vgg16)\n",
        "\n",
        "# Substituir as camadas 4, 5 e 6 por uma camada de identidade\n",
        "vgg16_ft.classifier = nn.Sequential(nn.Identity())\n",
        "\n",
        "for param in vgg16_ft.parameters():\n",
        "    param.requires_grad = False\n",
        "\n",
        "# Verificar a nova arquitetura do classificador\n",
        "print(vgg16_ft)"
      ]
    },
    {
      "cell_type": "code",
      "execution_count": null,
      "metadata": {
        "id": "v_EDIzDAaXYh"
      },
      "outputs": [],
      "source": [
        "train_preproc_ft = preprocessed_dataset(vgg16_ft, train_loader)\n",
        "train_preproc_loader_ft = DataLoader(\n",
        "    train_preproc_ft, batch_size=16, shuffle=True\n",
        ")"
      ]
    },
    {
      "cell_type": "code",
      "execution_count": null,
      "metadata": {
        "id": "06MOV-0maW5b"
      },
      "outputs": [],
      "source": [
        "vgg16_ft_top_model = nn.Sequential(nn.Linear(25088, 4096),\n",
        "                                   nn.ReLU(inplace=True),\n",
        "                                   nn.Dropout(0.5, inplace=False),\n",
        "                                   nn.Linear(4096, 4096),\n",
        "                                   nn.ReLU(inplace=True),\n",
        "                                   nn.Dropout(0.5, inplace=False),\n",
        "                                   nn.Linear(4096, 2))\n",
        "vgg16_ft_top_model = vgg16_ft_top_model.to(device)\n",
        "\n",
        "# Função de perda e otimizador\n",
        "criterion = nn.CrossEntropyLoss()\n",
        "optimizer = optim.Adam(vgg16_ft_top_model.parameters(), lr=0.001)"
      ]
    },
    {
      "cell_type": "code",
      "execution_count": null,
      "metadata": {
        "colab": {
          "base_uri": "https://localhost:8080/",
          "height": 861
        },
        "id": "2CCLP6qwdB0_",
        "outputId": "72790bd9-409c-4fc6-ee7e-c8304174eb5b"
      },
      "outputs": [
        {
          "name": "stdout",
          "output_type": "stream",
          "text": [
            "Epoch 1/15, Loss: 0.4722885042299502, Accuracy: 92.53731343283582%\n",
            "Epoch 2/15, Loss: 0.35473367870611494, Accuracy: 97.54488427428078%\n",
            "Epoch 3/15, Loss: 0.5633152962410133, Accuracy: 98.2478909798832%\n",
            "Epoch 4/15, Loss: 0.563016601060345, Accuracy: 98.66969500324464%\n",
            "Epoch 5/15, Loss: 0.19602925728263385, Accuracy: 99.41596365996106%\n",
            "Epoch 6/15, Loss: 0.36167139496433187, Accuracy: 99.27536231884058%\n",
            "Epoch 7/15, Loss: 0.22643072467718658, Accuracy: 99.54574951330305%\n",
            "Epoch 8/15, Loss: 0.7288201847787396, Accuracy: 99.25373134328358%\n",
            "Epoch 9/15, Loss: 0.2514789928201694, Accuracy: 99.64308890330953%\n",
            "Epoch 10/15, Loss: 1.181552864936928, Accuracy: 99.27536231884058%\n",
            "Epoch 11/15, Loss: 0.4803060444147817, Accuracy: 99.65390439108803%\n",
            "Epoch 12/15, Loss: 0.21767860588560622, Accuracy: 99.76205926887303%\n",
            "Epoch 13/15, Loss: 0.5106090403702622, Accuracy: 99.62145792775254%\n",
            "Epoch 14/15, Loss: 0.48122375777655285, Accuracy: 99.68635085442354%\n",
            "Epoch 15/15, Loss: 0.4124054406699758, Accuracy: 99.75124378109453%\n"
          ]
        },
        {
          "data": {
            "image/png": "[encoded data removed]",
            "text/plain": [
              "<Figure size 800x600 with 1 Axes>"
            ]
          },
          "metadata": {},
          "output_type": "display_data"
        },
        {
          "name": "stdout",
          "output_type": "stream",
          "text": [
            "Tempo total de treinamento: 376.74 segundos\n"
          ]
        }
      ],
      "source": [
        "# Treinar o modelo\n",
        "start_time = time.time()\n",
        "train(vgg16_ft_top_model, train_preproc_loader_ft, criterion, optimizer, device, epochs=15)\n",
        "end_time = time.time()\n",
        "elapsed_time = end_time - start_time\n",
        "print(f\"Tempo total de treinamento: {elapsed_time:.2f} segundos\")"
      ]
    },
    {
      "cell_type": "code",
      "execution_count": null,
      "metadata": {
        "colab": {
          "base_uri": "https://localhost:8080/"
        },
        "id": "M8dXstq3dAqZ",
        "outputId": "3573ce8c-0103-4429-d327-f0b14e42e580"
      },
      "outputs": [
        {
          "name": "stderr",
          "output_type": "stream",
          "text": [
            "/usr/local/lib/python3.11/dist-packages/PIL/Image.py:1045: UserWarning: Palette images with Transparency expressed in bytes should be converted to RGBA images\n",
            "  warnings.warn(\n"
          ]
        }
      ],
      "source": [
        "# Now we can attach the trained model to the top of the full (frozen) model\n",
        "vgg16_ft.classifier = vgg16_ft_top_model\n",
        "\n",
        "avg_loss_val, accuracy_val = evaluate_model(vgg16_ft, val_loader, device, criterion)\n",
        "avg_loss_test, accuracy_test = evaluate_model(vgg16_ft, test_loader, device, criterion)"
      ]
    },
    {
      "cell_type": "code",
      "execution_count": null,
      "metadata": {
        "colab": {
          "base_uri": "https://localhost:8080/"
        },
        "id": "rL7QAf-FguWh",
        "outputId": "9d6c4c7f-54a2-444f-b2b7-08402be4e883"
      },
      "outputs": [
        {
          "name": "stdout",
          "output_type": "stream",
          "text": [
            "Resultados da Validação:\n",
            "  Perda Média: 0.38006634131271677\n",
            "  Acurácia: 99.75874547647769%\n",
            "\n",
            "Resultados do Teste:\n",
            "  Perda Média: 1.6105498664463933\n",
            "  Acurácia: 99.2094861660079%\n"
          ]
        }
      ],
      "source": [
        "# Exibindo os resultados\n",
        "print(f\"Resultados da Validação:\")\n",
        "print(f\"  Perda Média: {avg_loss_val}\")\n",
        "print(f\"  Acurácia: {accuracy_val}%\")\n",
        "\n",
        "print(f\"\\nResultados do Teste:\")\n",
        "print(f\"  Perda Média: {avg_loss_test}\")\n",
        "print(f\"  Acurácia: {accuracy_test}%\")"
      ]
    },
    {
      "cell_type": "markdown",
      "metadata": {
        "id": "nng8cV1Qhu-h"
      },
      "source": [
        "## Segunda etapa do fine-tuning"
      ]
    },
    {
      "cell_type": "code",
      "execution_count": null,
      "metadata": {
        "id": "wREECCMcfa6o"
      },
      "outputs": [],
      "source": [
        "vgg16_ft2 = deepcopy(vgg16_ft)\n",
        "vgg16_ft2_classifier = deepcopy(vgg16_ft2.classifier)\n",
        "\n",
        "# Modificar a arquitetura\n",
        "# Remover avgpool e classifier\n",
        "vgg16_ft2.avgpool = nn.Identity()  # Substitui AdaptiveAvgPool2d por uma identidade\n",
        "vgg16_ft2.classifier = nn.Identity()  # Remove toda a cabeça da rede (camada fully connected)\n",
        "\n",
        "# Substituir camada 28 por Identity e remover camadas 29 e 30\n",
        "modified_features = list(vgg16_ft2.features)\n",
        "modified_features[28] = nn.Identity()  # Substitui a camada Conv2d na posição 28 por uma identidade\n",
        "modified_features = modified_features[:29]  # Remove as camadas 28 a 30\n",
        "\n",
        "# Atualizar o atributo features com as modificações\n",
        "vgg16_ft2.features = nn.Sequential(*modified_features)\n",
        "\n",
        "for param in vgg16_ft2.parameters():\n",
        "    param.requires_grad = False"
      ]
    },
    {
      "cell_type": "code",
      "execution_count": null,
      "metadata": {
        "colab": {
          "base_uri": "https://localhost:8080/"
        },
        "id": "wWbflh8u93Xx",
        "outputId": "236a9c6e-fd3f-48c1-852d-5f3bbdc7bf7a"
      },
      "outputs": [
        {
          "data": {
            "text/plain": [
              "VGG(\n",
              "  (features): Sequential(\n",
              "    (0): Conv2d(3, 64, kernel_size=(3, 3), stride=(1, 1), padding=(1, 1))\n",
              "    (1): ReLU(inplace=True)\n",
              "    (2): Conv2d(64, 64, kernel_size=(3, 3), stride=(1, 1), padding=(1, 1))\n",
              "    (3): ReLU(inplace=True)\n",
              "    (4): MaxPool2d(kernel_size=2, stride=2, padding=0, dilation=1, ceil_mode=False)\n",
              "    (5): Conv2d(64, 128, kernel_size=(3, 3), stride=(1, 1), padding=(1, 1))\n",
              "    (6): ReLU(inplace=True)\n",
              "    (7): Conv2d(128, 128, kernel_size=(3, 3), stride=(1, 1), padding=(1, 1))\n",
              "    (8): ReLU(inplace=True)\n",
              "    (9): MaxPool2d(kernel_size=2, stride=2, padding=0, dilation=1, ceil_mode=False)\n",
              "    (10): Conv2d(128, 256, kernel_size=(3, 3), stride=(1, 1), padding=(1, 1))\n",
              "    (11): ReLU(inplace=True)\n",
              "    (12): Conv2d(256, 256, kernel_size=(3, 3), stride=(1, 1), padding=(1, 1))\n",
              "    (13): ReLU(inplace=True)\n",
              "    (14): Conv2d(256, 256, kernel_size=(3, 3), stride=(1, 1), padding=(1, 1))\n",
              "    (15): ReLU(inplace=True)\n",
              "    (16): MaxPool2d(kernel_size=2, stride=2, padding=0, dilation=1, ceil_mode=False)\n",
              "    (17): Conv2d(256, 512, kernel_size=(3, 3), stride=(1, 1), padding=(1, 1))\n",
              "    (18): ReLU(inplace=True)\n",
              "    (19): Conv2d(512, 512, kernel_size=(3, 3), stride=(1, 1), padding=(1, 1))\n",
              "    (20): ReLU(inplace=True)\n",
              "    (21): Conv2d(512, 512, kernel_size=(3, 3), stride=(1, 1), padding=(1, 1))\n",
              "    (22): ReLU(inplace=True)\n",
              "    (23): MaxPool2d(kernel_size=2, stride=2, padding=0, dilation=1, ceil_mode=False)\n",
              "    (24): Conv2d(512, 512, kernel_size=(3, 3), stride=(1, 1), padding=(1, 1))\n",
              "    (25): ReLU(inplace=True)\n",
              "    (26): Conv2d(512, 512, kernel_size=(3, 3), stride=(1, 1), padding=(1, 1))\n",
              "    (27): ReLU(inplace=True)\n",
              "    (28): Identity()\n",
              "  )\n",
              "  (avgpool): Identity()\n",
              "  (classifier): Identity()\n",
              ")"
            ]
          },
          "execution_count": 33,
          "metadata": {},
          "output_type": "execute_result"
        }
      ],
      "source": [
        "vgg16_ft2"
      ]
    },
    {
      "cell_type": "code",
      "execution_count": null,
      "metadata": {
        "id": "n8W2dZWb7_bT"
      },
      "outputs": [],
      "source": [
        "vgg16_ft2_top_model = deepcopy(vgg16_ft)\n",
        "\n",
        "vgg16_ft2_top_model.features = nn.Sequential(\n",
        "    nn.Conv2d(512, 512, kernel_size=(3, 3), stride=(1, 1), padding=(1, 1)),\n",
        "    nn.ReLU(inplace=True),\n",
        "    nn.MaxPool2d(kernel_size=2, stride=2, padding=0, dilation=1, ceil_mode=False),\n",
        ")\n",
        "\n",
        "vgg16_ft2_top_model = vgg16_ft2_top_model.to(device)"
      ]
    },
    {
      "cell_type": "code",
      "execution_count": null,
      "metadata": {
        "colab": {
          "base_uri": "https://localhost:8080/"
        },
        "id": "82eo8vUC98B_",
        "outputId": "55f18078-5207-449b-ade6-56aa45c429b0"
      },
      "outputs": [
        {
          "data": {
            "text/plain": [
              "VGG(\n",
              "  (features): Sequential(\n",
              "    (0): Conv2d(512, 512, kernel_size=(3, 3), stride=(1, 1), padding=(1, 1))\n",
              "    (1): ReLU(inplace=True)\n",
              "    (2): MaxPool2d(kernel_size=2, stride=2, padding=0, dilation=1, ceil_mode=False)\n",
              "  )\n",
              "  (avgpool): AdaptiveAvgPool2d(output_size=(7, 7))\n",
              "  (classifier): Sequential(\n",
              "    (0): Linear(in_features=25088, out_features=4096, bias=True)\n",
              "    (1): ReLU(inplace=True)\n",
              "    (2): Dropout(p=0.5, inplace=False)\n",
              "    (3): Linear(in_features=4096, out_features=4096, bias=True)\n",
              "    (4): ReLU(inplace=True)\n",
              "    (5): Dropout(p=0.5, inplace=False)\n",
              "    (6): Linear(in_features=4096, out_features=2, bias=True)\n",
              "  )\n",
              ")"
            ]
          },
          "execution_count": 35,
          "metadata": {},
          "output_type": "execute_result"
        }
      ],
      "source": [
        "vgg16_ft2_top_model"
      ]
    },
    {
      "cell_type": "code",
      "execution_count": null,
      "metadata": {
        "id": "QtDdtIeTiSBF"
      },
      "outputs": [],
      "source": [
        "def preprocessed_dataset_v2(model, loader, device=None):\n",
        "    if device is None:\n",
        "        device = next(model.parameters()).device\n",
        "    features = None\n",
        "    labels = None\n",
        "\n",
        "    for i, (x, y) in enumerate(loader):\n",
        "        model.eval()\n",
        "        output = model(x.to(device))\n",
        "        if i == 0:\n",
        "            features = output.detach().cpu()\n",
        "            labels = y.cpu()\n",
        "        else:\n",
        "            features = torch.cat([features, output.detach().cpu()])\n",
        "            labels = torch.cat([labels, y.cpu()])\n",
        "\n",
        "    # Ajustar a forma das features para [batch_size, channels, height, width]\n",
        "    batch_size, num_features = features.size()\n",
        "    channels = 512  # Número de canais da camada Conv2d\n",
        "    height = width = int(math.sqrt(num_features / channels))\n",
        "    features = features.view(batch_size, channels, height, width)\n",
        "\n",
        "    dataset = TensorDataset(features, labels)\n",
        "    return dataset"
      ]
    },
    {
      "cell_type": "code",
      "execution_count": null,
      "metadata": {
        "id": "AQlGIMjG-mG3"
      },
      "outputs": [],
      "source": [
        "train_preproc_ft2 = preprocessed_dataset_v2(vgg16_ft2, train_loader)"
      ]
    },
    {
      "cell_type": "code",
      "execution_count": null,
      "metadata": {
        "id": "vS1SvBBc6dwN"
      },
      "outputs": [],
      "source": [
        "torch.save(train_preproc_ft2.tensors, 'train_preproc_ft2.pth')"
      ]
    },
    {
      "cell_type": "code",
      "execution_count": null,
      "metadata": {
        "id": "7XGei1kSMq-w"
      },
      "outputs": [],
      "source": [
        "train_preproc_loader_ft2 = DataLoader(\n",
        "    train_preproc_ft2,\n",
        "    batch_size=16,\n",
        "    shuffle=True,\n",
        ")"
      ]
    },
    {
      "cell_type": "code",
      "execution_count": null,
      "metadata": {
        "id": "KG07OWCw-K6-"
      },
      "outputs": [],
      "source": [
        "# Função de perda e otimizador\n",
        "criterion = nn.CrossEntropyLoss()\n",
        "optimizer = optim.Adam(vgg16_ft2_top_model.parameters(), lr=0.001)"
      ]
    },
    {
      "cell_type": "code",
      "execution_count": null,
      "metadata": {
        "colab": {
          "base_uri": "https://localhost:8080/",
          "height": 861
        },
        "id": "aRegFM91-a0e",
        "outputId": "f388ef88-9497-4697-cf69-43ea53795558"
      },
      "outputs": [
        {
          "name": "stdout",
          "output_type": "stream",
          "text": [
            "Epoch 1/15, Loss: 23.367746034486444, Accuracy: 91.04477611940298%\n",
            "Epoch 2/15, Loss: 0.13737051399667158, Accuracy: 97.72874756651525%\n",
            "Epoch 3/15, Loss: 0.0805066733266865, Accuracy: 98.64806402768765%\n",
            "Epoch 4/15, Loss: 0.08697138880233897, Accuracy: 98.78866536880814%\n",
            "Epoch 5/15, Loss: 0.06561143264717485, Accuracy: 99.03742158771361%\n",
            "Epoch 6/15, Loss: 0.010563442418533159, Accuracy: 99.84858317110101%\n",
            "Epoch 7/15, Loss: 0.09626633259044687, Accuracy: 98.66969500324464%\n",
            "Epoch 8/15, Loss: 0.1214983100425674, Accuracy: 98.84274280770063%\n",
            "Epoch 9/15, Loss: 0.14260755013118523, Accuracy: 98.78866536880814%\n",
            "Epoch 10/15, Loss: 0.025442415553088564, Accuracy: 99.67553536664504%\n",
            "Epoch 11/15, Loss: 0.08198074214942226, Accuracy: 99.30780878217608%\n",
            "Epoch 12/15, Loss: 0.19126848684064987, Accuracy: 99.0590525632706%\n",
            "Epoch 13/15, Loss: 0.052597031129223114, Accuracy: 99.65390439108803%\n",
            "Epoch 14/15, Loss: 0.029503332254682116, Accuracy: 99.69716634220204%\n",
            "Epoch 15/15, Loss: 0.047471512173254064, Accuracy: 99.68635085442354%\n"
          ]
        },
        {
          "data": {
            "image/png": "[encoded data removed]",
            "text/plain": [
              "<Figure size 800x600 with 1 Axes>"
            ]
          },
          "metadata": {},
          "output_type": "display_data"
        },
        {
          "name": "stdout",
          "output_type": "stream",
          "text": [
            "Tempo total de treinamento: 445.15 segundos\n"
          ]
        }
      ],
      "source": [
        "# Treinar o modelo\n",
        "start_time = time.time()\n",
        "train(vgg16_ft2_top_model, train_preproc_loader_ft2, criterion, optimizer, device, epochs=15)\n",
        "end_time = time.time()\n",
        "elapsed_time = end_time - start_time\n",
        "print(f\"Tempo total de treinamento: {elapsed_time:.2f} segundos\")"
      ]
    },
    {
      "cell_type": "code",
      "execution_count": null,
      "metadata": {
        "id": "0G4oypKQ-9Bn"
      },
      "outputs": [],
      "source": [
        "# Now we can attach the trained model to the top of the full (frozen) model\n",
        "vgg16_ft2.avgpool = vgg16_ft2_top_model.avgpool\n",
        "vgg16_ft2.classifier = vgg16_ft2_top_model.classifier\n",
        "\n",
        "vgg16_ft2.features = nn.Sequential(\n",
        "    *list(vgg16_ft2.features.children()),\n",
        "    *list(vgg16_ft2_top_model.features.children()),\n",
        ")\n",
        "\n",
        "avg_loss_val, accuracy_val = evaluate_model(vgg16_ft2, val_loader, device, criterion)\n",
        "avg_loss_test, accuracy_test = evaluate_model(vgg16_ft2, test_loader, device, criterion)"
      ]
    },
    {
      "cell_type": "code",
      "execution_count": null,
      "metadata": {
        "colab": {
          "base_uri": "https://localhost:8080/"
        },
        "id": "YGAE76Wb-8Xb",
        "outputId": "f6df2f0a-e23d-4ae5-f35d-d61eb7267f55"
      },
      "outputs": [
        {
          "name": "stdout",
          "output_type": "stream",
          "text": [
            "Resultados da Validação:\n",
            "  Perda Média: 0.3695278680402762\n",
            "  Acurácia: 98.19059107358262%\n",
            "\n",
            "Resultados do Teste:\n",
            "  Perda Média: 0.16039800973748297\n",
            "  Acurácia: 99.2094861660079%\n"
          ]
        }
      ],
      "source": [
        "# Exibindo os resultados\n",
        "print(f\"Resultados da Validação:\")\n",
        "print(f\"  Perda Média: {avg_loss_val}\")\n",
        "print(f\"  Acurácia: {accuracy_val}%\")\n",
        "\n",
        "print(f\"\\nResultados do Teste:\")\n",
        "print(f\"  Perda Média: {avg_loss_test}\")\n",
        "print(f\"  Acurácia: {accuracy_test}%\")"
      ]
    }
  ],
  "metadata": {
    "accelerator": "GPU",
    "colab": {
      "gpuType": "T4",
      "provenance": []
    },
    "kernelspec": {
      "display_name": "Python 3",
      "name": "python3"
    },
    "language_info": {
      "name": "python"
    }
  },
  "nbformat": 4,
  "nbformat_minor": 0
}
